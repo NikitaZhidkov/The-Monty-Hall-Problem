{
  "nbformat": 4,
  "nbformat_minor": 0,
  "metadata": {
    "colab": {
      "name": "Simulation.ipynb",
      "provenance": [],
      "collapsed_sections": []
    },
    "kernelspec": {
      "name": "python3",
      "display_name": "Python 3"
    },
    "language_info": {
      "name": "python"
    }
  },
  "cells": [
    {
      "cell_type": "code",
      "execution_count": 2,
      "metadata": {
        "colab": {
          "base_uri": "https://localhost:8080/"
        },
        "id": "pYBnfDsnAOcd",
        "outputId": "7e944cfa-07e2-4b24-c9f5-b9409acdbb90"
      },
      "outputs": [
        {
          "output_type": "stream",
          "name": "stdout",
          "text": [
            "first door strategy: (33194, 0.33194)\n",
            "change door strategy: (66806, 0.66806)\n"
          ]
        }
      ],
      "source": [
        "import random\n",
        "door_nuymbers = 3\n",
        "iteration_num = 100000\n",
        "\n",
        "def choose_door(door_nuymbers):\n",
        "  return random.randint(0, door_nuymbers-1)\n",
        "\n",
        "def choose_door_exclude(door1, door2, door_nuymbers):\n",
        "  doors = [i for i in range(door_nuymbers) if i != door1 and i != door2]\n",
        "  door_num = random.randint(0, len(doors)-1)\n",
        "  return doors[door_num]\n",
        "\n",
        "def make_simulation(iteration_num, door_nuymbers, choose_again):\n",
        "  wins = 0\n",
        "  for i in range(iteration_num):\n",
        "    win_door = choose_door(door_nuymbers)\n",
        "    player_door = choose_door(door_nuymbers)\n",
        "    host_door = choose_door_exclude(win_door, player_door, door_nuymbers)\n",
        "    if choose_again:\n",
        "      init_player_door = player_door\n",
        "      player_door = choose_door_exclude(player_door, host_door, door_nuymbers)\n",
        "\n",
        "    if player_door == win_door:\n",
        "      wins = wins + 1\n",
        "  return wins, wins / iteration_num\n",
        "\n",
        "first_door_strategy = make_simulation(iteration_num, door_nuymbers, choose_again=False)\n",
        "change_door_strategy = make_simulation(iteration_num, door_nuymbers, choose_again=True)\n",
        "\n",
        "print(f\"first door strategy: {first_door_strategy}\")\n",
        "print(f\"change door strategy: {change_door_strategy}\")\n",
        "\n",
        "\n"
      ]
    }
  ]
}